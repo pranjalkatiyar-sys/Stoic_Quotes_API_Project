{
 "cells": [
  {
   "cell_type": "markdown",
   "id": "c52561a8",
   "metadata": {},
   "source": [
    "# Hello in this lecture I will show you how to build your own API project using latest APIs "
   ]
  },
  {
   "cell_type": "code",
   "execution_count": 2,
   "id": "b13193b0",
   "metadata": {},
   "outputs": [
    {
     "name": "stdout",
     "output_type": "stream",
     "text": [
      "{'text': 'Do every act of your life as if it were your last.', 'author': 'Marcus Aurelius'}\n"
     ]
    }
   ],
   "source": [
    "import requests\n",
    "\n",
    "url = \"https://stoic-quotes.com/api/quote\"\n",
    "\n",
    "response = requests.get(url)\n",
    "\n",
    "#print(response.json())\n",
    "#https://github.com/benhoneywill/stoic-quotes\n"
   ]
  },
  {
   "cell_type": "code",
   "execution_count": 3,
   "id": "d5ba9c04",
   "metadata": {},
   "outputs": [
    {
     "data": {
      "text/plain": [
       "True"
      ]
     },
     "execution_count": 3,
     "metadata": {},
     "output_type": "execute_result"
    }
   ],
   "source": [
    "response.ok"
   ]
  },
  {
   "cell_type": "code",
   "execution_count": 4,
   "id": "45006993",
   "metadata": {},
   "outputs": [
    {
     "data": {
      "text/plain": [
       "200"
      ]
     },
     "execution_count": 4,
     "metadata": {},
     "output_type": "execute_result"
    }
   ],
   "source": [
    "response.status_code"
   ]
  },
  {
   "cell_type": "code",
   "execution_count": 5,
   "id": "46330980",
   "metadata": {},
   "outputs": [],
   "source": [
    "# A useful library for JSON manipulation and pretty print\n",
    "import json\n"
   ]
  },
  {
   "cell_type": "code",
   "execution_count": 6,
   "id": "5ae5e302",
   "metadata": {},
   "outputs": [
    {
     "data": {
      "text/plain": [
       "'{\\n    \"text\": \"Do every act of your life as if it were your last.\",\\n    \"author\": \"Marcus Aurelius\"\\n}'"
      ]
     },
     "execution_count": 6,
     "metadata": {},
     "output_type": "execute_result"
    }
   ],
   "source": [
    "json.dumps(response.json(), indent=4)"
   ]
  },
  {
   "cell_type": "code",
   "execution_count": 7,
   "id": "3dfdeb7d",
   "metadata": {},
   "outputs": [
    {
     "name": "stdout",
     "output_type": "stream",
     "text": [
      "{\n",
      "    \"text\": \"Do every act of your life as if it were your last.\",\n",
      "    \"author\": \"Marcus Aurelius\"\n",
      "}\n"
     ]
    }
   ],
   "source": [
    "print(json.dumps(response.json(), indent=4))"
   ]
  },
  {
   "cell_type": "code",
   "execution_count": 8,
   "id": "4f3cba1b",
   "metadata": {},
   "outputs": [
    {
     "data": {
      "text/plain": [
       "dict_keys(['text', 'author'])"
      ]
     },
     "execution_count": 8,
     "metadata": {},
     "output_type": "execute_result"
    }
   ],
   "source": [
    "response.json().keys()"
   ]
  },
  {
   "cell_type": "code",
   "execution_count": 22,
   "id": "1b68ed57",
   "metadata": {},
   "outputs": [
    {
     "data": {
      "text/plain": [
       "'https://stoic-quotes.com/api/quotes?num=01'"
      ]
     },
     "execution_count": 22,
     "metadata": {},
     "output_type": "execute_result"
    }
   ],
   "source": [
    "Parameter_URL = url + \"s\" + \"?num=01\" \n",
    "Parameter_URL "
   ]
  },
  {
   "cell_type": "code",
   "execution_count": 23,
   "id": "93c24291",
   "metadata": {},
   "outputs": [],
   "source": [
    "response_1 = requests.get(Parameter_URL)"
   ]
  },
  {
   "cell_type": "code",
   "execution_count": 24,
   "id": "befad882",
   "metadata": {
    "scrolled": true
   },
   "outputs": [
    {
     "data": {
      "text/plain": [
       "True"
      ]
     },
     "execution_count": 24,
     "metadata": {},
     "output_type": "execute_result"
    }
   ],
   "source": [
    "response_1.ok"
   ]
  },
  {
   "cell_type": "code",
   "execution_count": 25,
   "id": "bc763b59",
   "metadata": {},
   "outputs": [
    {
     "name": "stdout",
     "output_type": "stream",
     "text": [
      "[{'text': 'For it is in your power to retire into yourself whenever you choose.', 'author': 'Marcus Aurelius'}]\n"
     ]
    }
   ],
   "source": [
    "print(response_1.json())"
   ]
  },
  {
   "cell_type": "code",
   "execution_count": 26,
   "id": "51ecda39",
   "metadata": {},
   "outputs": [],
   "source": [
    "Data = response_1.json()"
   ]
  },
  {
   "cell_type": "code",
   "execution_count": 33,
   "id": "0b4912a5",
   "metadata": {
    "scrolled": true
   },
   "outputs": [
    {
     "data": {
      "text/plain": [
       "'For it is in your power to retire into yourself whenever you choose.'"
      ]
     },
     "execution_count": 33,
     "metadata": {},
     "output_type": "execute_result"
    }
   ],
   "source": [
    "Data[0][\"text\"]"
   ]
  },
  {
   "cell_type": "markdown",
   "id": "1249b854",
   "metadata": {},
   "source": [
    "# Below is the simple code which will give you quote of the day or if you want to read more Stoic Quotes."
   ]
  },
  {
   "cell_type": "code",
   "execution_count": 2,
   "id": "09441645",
   "metadata": {
    "scrolled": false
   },
   "outputs": [
    {
     "name": "stdout",
     "output_type": "stream",
     "text": [
      "please let us know if you want to see one random quote(if yes press 'y' otherwise 'n') :  y\n",
      "\n",
      "Quote : Give your heart to the trade you have learnt, and draw refreshment from it. \n",
      "Author : Marcus Aurelius\n"
     ]
    }
   ],
   "source": [
    "import requests\n",
    "import json\n",
    "\n",
    "# Stoic Quotes API URL\n",
    "url = \"https://stoic-quotes.com/api/quote\"\n",
    "\n",
    "# Gathering input parameters from the user\n",
    "question = input(\"please let us know if you want to see one random quote(if yes press 'y' otherwise 'n') :  \")\n",
    "\n",
    "\n",
    "if question == \"y\":\n",
    "    \n",
    "    response_1 = requests.get(url)\n",
    "    if response_1.ok == True:\n",
    "        data_1 = response_1.json()\n",
    "        print(\"\\nQuote : {} \\nAuthor : {}\".format(data_1[\"text\"], data_1[\"author\"]))\n",
    "    else:\n",
    "        print(\" Ops! Server Error\")\n",
    "    \n",
    "elif question == \"n\":\n",
    "    total_numbers = input(\"Please enter total number of quotes you want to see(Should be less then 100):  \")\n",
    "    response_2 = requests.get(url + \"s\" + \"?num={}\".format(total_numbers))\n",
    "    if response_2.ok == True:\n",
    "        data_2 = response_2.json()\n",
    "        for number in range(len(data_2)):\n",
    "            print(\"\\nQuote : {} \\nAuthor : {}\".format(data_2[number][\"text\"], data_2[number][\"author\"]))\n",
    "    else:\n",
    "        print(\" Ops! Server Error\")\n",
    "\n",
    "else:\n",
    "    print(\"Please provide valid response\")\n",
    "\n"
   ]
  },
  {
   "cell_type": "code",
   "execution_count": null,
   "id": "122e03d1",
   "metadata": {},
   "outputs": [],
   "source": []
  }
 ],
 "metadata": {
  "kernelspec": {
   "display_name": "Python 3 (ipykernel)",
   "language": "python",
   "name": "python3"
  },
  "language_info": {
   "codemirror_mode": {
    "name": "ipython",
    "version": 3
   },
   "file_extension": ".py",
   "mimetype": "text/x-python",
   "name": "python",
   "nbconvert_exporter": "python",
   "pygments_lexer": "ipython3",
   "version": "3.11.3"
  }
 },
 "nbformat": 4,
 "nbformat_minor": 5
}
